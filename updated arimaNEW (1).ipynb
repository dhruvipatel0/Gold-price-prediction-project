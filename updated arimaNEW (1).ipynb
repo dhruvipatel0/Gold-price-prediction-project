{
 "cells": [
  {
   "cell_type": "code",
   "execution_count": 35,
   "metadata": {},
   "outputs": [
    {
     "name": "stdout",
     "output_type": "stream",
     "text": [
      "Requirement already satisfied: yfinance in c:\\users\\krishna\\anaconda3\\lib\\site-packages (0.1.70)\n",
      "Requirement already satisfied: numpy>=1.15 in c:\\users\\krishna\\anaconda3\\lib\\site-packages (from yfinance) (1.19.2)\n",
      "Requirement already satisfied: lxml>=4.5.1 in c:\\users\\krishna\\anaconda3\\lib\\site-packages (from yfinance) (4.6.1)\n",
      "Requirement already satisfied: pandas>=0.24.0 in c:\\users\\krishna\\anaconda3\\lib\\site-packages (from yfinance) (1.1.3)\n",
      "Requirement already satisfied: requests>=2.26 in c:\\users\\krishna\\anaconda3\\lib\\site-packages (from yfinance) (2.27.1)\n",
      "Requirement already satisfied: multitasking>=0.0.7 in c:\\users\\krishna\\anaconda3\\lib\\site-packages (from yfinance) (0.0.10)\n",
      "Requirement already satisfied: python-dateutil>=2.7.3 in c:\\users\\krishna\\anaconda3\\lib\\site-packages (from pandas>=0.24.0->yfinance) (2.8.1)\n",
      "Requirement already satisfied: pytz>=2017.2 in c:\\users\\krishna\\anaconda3\\lib\\site-packages (from pandas>=0.24.0->yfinance) (2020.1)\n",
      "Requirement already satisfied: charset-normalizer~=2.0.0; python_version >= \"3\" in c:\\users\\krishna\\anaconda3\\lib\\site-packages (from requests>=2.26->yfinance) (2.0.11)\n",
      "Requirement already satisfied: idna<4,>=2.5; python_version >= \"3\" in c:\\users\\krishna\\anaconda3\\lib\\site-packages (from requests>=2.26->yfinance) (2.10)\n",
      "Requirement already satisfied: urllib3<1.27,>=1.21.1 in c:\\users\\krishna\\anaconda3\\lib\\site-packages (from requests>=2.26->yfinance) (1.25.11)\n",
      "Requirement already satisfied: certifi>=2017.4.17 in c:\\users\\krishna\\anaconda3\\lib\\site-packages (from requests>=2.26->yfinance) (2020.6.20)\n",
      "Requirement already satisfied: six>=1.5 in c:\\users\\krishna\\anaconda3\\lib\\site-packages (from python-dateutil>=2.7.3->pandas>=0.24.0->yfinance) (1.12.0)\n"
     ]
    }
   ],
   "source": [
    "!pip install yfinance\n",
    "import yfinance as yf\n",
    "import datetime as dt\n",
    "current_date = dt.datetime.now()\n",
    "import matplotlib.pyplot as plt\n",
    "import numpy as np"
   ]
  },
  {
   "cell_type": "code",
   "execution_count": 36,
   "metadata": {},
   "outputs": [
    {
     "name": "stdout",
     "output_type": "stream",
     "text": [
      "[*********************100%***********************]  1 of 1 completed\n"
     ]
    }
   ],
   "source": [
    "df = yf.download('GC=F', '2018-01-01', current_date, auto_adjust=True)"
   ]
  },
  {
   "cell_type": "code",
   "execution_count": 37,
   "metadata": {},
   "outputs": [
    {
     "data": {
      "text/html": [
       "<div>\n",
       "<style scoped>\n",
       "    .dataframe tbody tr th:only-of-type {\n",
       "        vertical-align: middle;\n",
       "    }\n",
       "\n",
       "    .dataframe tbody tr th {\n",
       "        vertical-align: top;\n",
       "    }\n",
       "\n",
       "    .dataframe thead th {\n",
       "        text-align: right;\n",
       "    }\n",
       "</style>\n",
       "<table border=\"1\" class=\"dataframe\">\n",
       "  <thead>\n",
       "    <tr style=\"text-align: right;\">\n",
       "      <th></th>\n",
       "      <th>Open</th>\n",
       "      <th>High</th>\n",
       "      <th>Low</th>\n",
       "      <th>Close</th>\n",
       "      <th>Volume</th>\n",
       "    </tr>\n",
       "    <tr>\n",
       "      <th>Date</th>\n",
       "      <th></th>\n",
       "      <th></th>\n",
       "      <th></th>\n",
       "      <th></th>\n",
       "      <th></th>\n",
       "    </tr>\n",
       "  </thead>\n",
       "  <tbody>\n",
       "    <tr>\n",
       "      <th>2018-01-02</th>\n",
       "      <td>1302.300049</td>\n",
       "      <td>1317.599976</td>\n",
       "      <td>1302.300049</td>\n",
       "      <td>1313.699951</td>\n",
       "      <td>68</td>\n",
       "    </tr>\n",
       "    <tr>\n",
       "      <th>2018-01-03</th>\n",
       "      <td>1320.000000</td>\n",
       "      <td>1320.099976</td>\n",
       "      <td>1312.099976</td>\n",
       "      <td>1316.199951</td>\n",
       "      <td>42</td>\n",
       "    </tr>\n",
       "    <tr>\n",
       "      <th>2018-01-04</th>\n",
       "      <td>1319.400024</td>\n",
       "      <td>1322.000000</td>\n",
       "      <td>1319.400024</td>\n",
       "      <td>1319.400024</td>\n",
       "      <td>2</td>\n",
       "    </tr>\n",
       "    <tr>\n",
       "      <th>2018-01-05</th>\n",
       "      <td>1320.300049</td>\n",
       "      <td>1320.300049</td>\n",
       "      <td>1320.300049</td>\n",
       "      <td>1320.300049</td>\n",
       "      <td>1</td>\n",
       "    </tr>\n",
       "    <tr>\n",
       "      <th>2018-01-08</th>\n",
       "      <td>1319.900024</td>\n",
       "      <td>1319.900024</td>\n",
       "      <td>1314.599976</td>\n",
       "      <td>1318.599976</td>\n",
       "      <td>41</td>\n",
       "    </tr>\n",
       "    <tr>\n",
       "      <th>...</th>\n",
       "      <td>...</td>\n",
       "      <td>...</td>\n",
       "      <td>...</td>\n",
       "      <td>...</td>\n",
       "      <td>...</td>\n",
       "    </tr>\n",
       "    <tr>\n",
       "      <th>2022-03-14</th>\n",
       "      <td>1976.500000</td>\n",
       "      <td>1977.699951</td>\n",
       "      <td>1959.599976</td>\n",
       "      <td>1959.599976</td>\n",
       "      <td>145</td>\n",
       "    </tr>\n",
       "    <tr>\n",
       "      <th>2022-03-15</th>\n",
       "      <td>1939.800049</td>\n",
       "      <td>1939.900024</td>\n",
       "      <td>1910.699951</td>\n",
       "      <td>1928.500000</td>\n",
       "      <td>71</td>\n",
       "    </tr>\n",
       "    <tr>\n",
       "      <th>2022-03-16</th>\n",
       "      <td>1922.400024</td>\n",
       "      <td>1922.400024</td>\n",
       "      <td>1907.199951</td>\n",
       "      <td>1908.000000</td>\n",
       "      <td>104</td>\n",
       "    </tr>\n",
       "    <tr>\n",
       "      <th>2022-03-17</th>\n",
       "      <td>1933.900024</td>\n",
       "      <td>1947.199951</td>\n",
       "      <td>1933.900024</td>\n",
       "      <td>1942.099976</td>\n",
       "      <td>104</td>\n",
       "    </tr>\n",
       "    <tr>\n",
       "      <th>2022-03-18</th>\n",
       "      <td>1943.900024</td>\n",
       "      <td>1946.199951</td>\n",
       "      <td>1918.000000</td>\n",
       "      <td>1921.500000</td>\n",
       "      <td>144678</td>\n",
       "    </tr>\n",
       "  </tbody>\n",
       "</table>\n",
       "<p>1061 rows × 5 columns</p>\n",
       "</div>"
      ],
      "text/plain": [
       "                   Open         High          Low        Close  Volume\n",
       "Date                                                                  \n",
       "2018-01-02  1302.300049  1317.599976  1302.300049  1313.699951      68\n",
       "2018-01-03  1320.000000  1320.099976  1312.099976  1316.199951      42\n",
       "2018-01-04  1319.400024  1322.000000  1319.400024  1319.400024       2\n",
       "2018-01-05  1320.300049  1320.300049  1320.300049  1320.300049       1\n",
       "2018-01-08  1319.900024  1319.900024  1314.599976  1318.599976      41\n",
       "...                 ...          ...          ...          ...     ...\n",
       "2022-03-14  1976.500000  1977.699951  1959.599976  1959.599976     145\n",
       "2022-03-15  1939.800049  1939.900024  1910.699951  1928.500000      71\n",
       "2022-03-16  1922.400024  1922.400024  1907.199951  1908.000000     104\n",
       "2022-03-17  1933.900024  1947.199951  1933.900024  1942.099976     104\n",
       "2022-03-18  1943.900024  1946.199951  1918.000000  1921.500000  144678\n",
       "\n",
       "[1061 rows x 5 columns]"
      ]
     },
     "execution_count": 37,
     "metadata": {},
     "output_type": "execute_result"
    }
   ],
   "source": [
    "df"
   ]
  },
  {
   "cell_type": "code",
   "execution_count": 38,
   "metadata": {},
   "outputs": [],
   "source": [
    "df =df.drop(['Open','High','Low','Volume'],axis=1)"
   ]
  },
  {
   "cell_type": "code",
   "execution_count": 39,
   "metadata": {},
   "outputs": [],
   "source": [
    "df.columns =['Gold_price']"
   ]
  },
  {
   "cell_type": "code",
   "execution_count": 40,
   "metadata": {},
   "outputs": [
    {
     "data": {
      "text/html": [
       "<div>\n",
       "<style scoped>\n",
       "    .dataframe tbody tr th:only-of-type {\n",
       "        vertical-align: middle;\n",
       "    }\n",
       "\n",
       "    .dataframe tbody tr th {\n",
       "        vertical-align: top;\n",
       "    }\n",
       "\n",
       "    .dataframe thead th {\n",
       "        text-align: right;\n",
       "    }\n",
       "</style>\n",
       "<table border=\"1\" class=\"dataframe\">\n",
       "  <thead>\n",
       "    <tr style=\"text-align: right;\">\n",
       "      <th></th>\n",
       "      <th>Gold_price</th>\n",
       "    </tr>\n",
       "    <tr>\n",
       "      <th>Date</th>\n",
       "      <th></th>\n",
       "    </tr>\n",
       "  </thead>\n",
       "  <tbody>\n",
       "    <tr>\n",
       "      <th>2018-01-02</th>\n",
       "      <td>1313.699951</td>\n",
       "    </tr>\n",
       "    <tr>\n",
       "      <th>2018-01-03</th>\n",
       "      <td>1316.199951</td>\n",
       "    </tr>\n",
       "    <tr>\n",
       "      <th>2018-01-04</th>\n",
       "      <td>1319.400024</td>\n",
       "    </tr>\n",
       "    <tr>\n",
       "      <th>2018-01-05</th>\n",
       "      <td>1320.300049</td>\n",
       "    </tr>\n",
       "    <tr>\n",
       "      <th>2018-01-08</th>\n",
       "      <td>1318.599976</td>\n",
       "    </tr>\n",
       "    <tr>\n",
       "      <th>...</th>\n",
       "      <td>...</td>\n",
       "    </tr>\n",
       "    <tr>\n",
       "      <th>2022-03-14</th>\n",
       "      <td>1959.599976</td>\n",
       "    </tr>\n",
       "    <tr>\n",
       "      <th>2022-03-15</th>\n",
       "      <td>1928.500000</td>\n",
       "    </tr>\n",
       "    <tr>\n",
       "      <th>2022-03-16</th>\n",
       "      <td>1908.000000</td>\n",
       "    </tr>\n",
       "    <tr>\n",
       "      <th>2022-03-17</th>\n",
       "      <td>1942.099976</td>\n",
       "    </tr>\n",
       "    <tr>\n",
       "      <th>2022-03-18</th>\n",
       "      <td>1921.500000</td>\n",
       "    </tr>\n",
       "  </tbody>\n",
       "</table>\n",
       "<p>1061 rows × 1 columns</p>\n",
       "</div>"
      ],
      "text/plain": [
       "             Gold_price\n",
       "Date                   \n",
       "2018-01-02  1313.699951\n",
       "2018-01-03  1316.199951\n",
       "2018-01-04  1319.400024\n",
       "2018-01-05  1320.300049\n",
       "2018-01-08  1318.599976\n",
       "...                 ...\n",
       "2022-03-14  1959.599976\n",
       "2022-03-15  1928.500000\n",
       "2022-03-16  1908.000000\n",
       "2022-03-17  1942.099976\n",
       "2022-03-18  1921.500000\n",
       "\n",
       "[1061 rows x 1 columns]"
      ]
     },
     "execution_count": 40,
     "metadata": {},
     "output_type": "execute_result"
    }
   ],
   "source": [
    "df"
   ]
  },
  {
   "cell_type": "code",
   "execution_count": 41,
   "metadata": {},
   "outputs": [
    {
     "data": {
      "text/plain": [
       "<AxesSubplot:xlabel='Date'>"
      ]
     },
     "execution_count": 41,
     "metadata": {},
     "output_type": "execute_result"
    },
    {
     "data": {
      "image/png": "[encoded data removed]",
      "text/plain": [
       "<Figure size 432x288 with 1 Axes>"
      ]
     },
     "metadata": {
      "needs_background": "light"
     },
     "output_type": "display_data"
    }
   ],
   "source": [
    "df.plot()"
   ]
  },
  {
   "cell_type": "code",
   "execution_count": null,
   "metadata": {},
   "outputs": [],
   "source": []
  },
  {
   "cell_type": "code",
   "execution_count": 42,
   "metadata": {
    "scrolled": true
   },
   "outputs": [
    {
     "data": {
      "image/png": "[encoded data removed]",
      "text/plain": [
       "<Figure size 432x288 with 1 Axes>"
      ]
     },
     "metadata": {
      "needs_background": "light"
     },
     "output_type": "display_data"
    }
   ],
   "source": [
    "from pandas.plotting import autocorrelation_plot\n",
    "autocorrelation_plot(df)\n",
    "plt.show()"
   ]
  },
  {
   "cell_type": "code",
   "execution_count": 43,
   "metadata": {},
   "outputs": [],
   "source": [
    "df = np.sqrt(df)"
   ]
  },
  {
   "cell_type": "code",
   "execution_count": 44,
   "metadata": {},
   "outputs": [
    {
     "data": {
      "text/plain": [
       "<AxesSubplot:xlabel='Date'>"
      ]
     },
     "execution_count": 44,
     "metadata": {},
     "output_type": "execute_result"
    },
    {
     "data": {
      "image/png": "[encoded data removed]",
      "text/plain": [
       "<Figure size 432x288 with 1 Axes>"
      ]
     },
     "metadata": {
      "needs_background": "light"
     },
     "output_type": "display_data"
    }
   ],
   "source": [
    "df.plot()"
   ]
  },
  {
   "cell_type": "code",
   "execution_count": 45,
   "metadata": {
    "scrolled": false
   },
   "outputs": [
    {
     "name": "stderr",
     "output_type": "stream",
     "text": [
      "<ipython-input-45-e7ee431621f2>:1: FutureWarning: The pandas.datetime class is deprecated and will be removed from pandas in a future version. Import from datetime module instead.\n",
      "  from pandas import datetime\n",
      "C:\\Users\\krishna\\anaconda3\\lib\\site-packages\\statsmodels\\tsa\\base\\tsa_model.py:581: ValueWarning: A date index has been provided, but it has no associated frequency information and so will be ignored when e.g. forecasting.\n",
      "  warnings.warn('A date index has been provided, but it has no'\n",
      "C:\\Users\\krishna\\anaconda3\\lib\\site-packages\\statsmodels\\tsa\\base\\tsa_model.py:581: ValueWarning: A date index has been provided, but it has no associated frequency information and so will be ignored when e.g. forecasting.\n",
      "  warnings.warn('A date index has been provided, but it has no'\n",
      "C:\\Users\\krishna\\anaconda3\\lib\\site-packages\\statsmodels\\tsa\\base\\tsa_model.py:581: ValueWarning: A date index has been provided, but it has no associated frequency information and so will be ignored when e.g. forecasting.\n",
      "  warnings.warn('A date index has been provided, but it has no'\n"
     ]
    },
    {
     "name": "stdout",
     "output_type": "stream",
     "text": [
      "                               SARIMAX Results                                \n",
      "==============================================================================\n",
      "Dep. Variable:             Gold_price   No. Observations:                 1061\n",
      "Model:                 ARIMA(3, 1, 0)   Log Likelihood                 214.972\n",
      "Date:                Sat, 19 Mar 2022   AIC                           -421.943\n",
      "Time:                        11:14:49   BIC                           -402.079\n",
      "Sample:                             0   HQIC                          -414.415\n",
      "                               - 1061                                         \n",
      "Covariance Type:                  opg                                         \n",
      "==============================================================================\n",
      "                 coef    std err          z      P>|z|      [0.025      0.975]\n",
      "------------------------------------------------------------------------------\n",
      "ar.L1         -0.0167      0.021     -0.797      0.425      -0.058       0.024\n",
      "ar.L2          0.0060      0.021      0.288      0.773      -0.035       0.047\n",
      "ar.L3         -0.0127      0.024     -0.536      0.592      -0.059       0.034\n",
      "sigma2         0.0390      0.001     44.103      0.000       0.037       0.041\n",
      "===================================================================================\n",
      "Ljung-Box (L1) (Q):                   0.01   Jarque-Bera (JB):              1572.87\n",
      "Prob(Q):                              0.94   Prob(JB):                         0.00\n",
      "Heteroskedasticity (H):               3.55   Skew:                            -0.38\n",
      "Prob(H) (two-sided):                  0.00   Kurtosis:                         8.92\n",
      "===================================================================================\n",
      "\n",
      "Warnings:\n",
      "[1] Covariance matrix calculated using the outer product of gradients (complex-step).\n"
     ]
    },
    {
     "data": {
      "image/png": "[encoded data removed]",
      "text/plain": [
       "<Figure size 432x288 with 1 Axes>"
      ]
     },
     "metadata": {
      "needs_background": "light"
     },
     "output_type": "display_data"
    },
    {
     "data": {
      "image/png": "[encoded data removed]",
      "text/plain": [
       "<Figure size 432x288 with 1 Axes>"
      ]
     },
     "metadata": {
      "needs_background": "light"
     },
     "output_type": "display_data"
    },
    {
     "name": "stdout",
     "output_type": "stream",
     "text": [
      "                 0\n",
      "count  1061.000000\n",
      "mean      0.041488\n",
      "std       1.129887\n",
      "min      -1.117968\n",
      "25%      -0.074105\n",
      "50%       0.012725\n",
      "75%       0.101961\n",
      "max      36.244999\n"
     ]
    }
   ],
   "source": [
    "from pandas import datetime\n",
    "from pandas import read_csv\n",
    "from pandas import DataFrame\n",
    "from statsmodels.tsa.arima.model import ARIMA\n",
    "from matplotlib import pyplot\n",
    "\n",
    "# fit model\n",
    "model = ARIMA(df, order=(3,1,0))\n",
    "model_fit = model.fit()\n",
    "# summary of fit model\n",
    "print(model_fit.summary())\n",
    "# line plot of residuals\n",
    "residuals = DataFrame(model_fit.resid)\n",
    "residuals.plot()\n",
    "pyplot.show()\n",
    "# density plot of residuals\n",
    "residuals.plot(kind='kde')\n",
    "pyplot.show()\n",
    "# summary stats of residuals\n",
    "print(residuals.describe())"
   ]
  },
  {
   "cell_type": "code",
   "execution_count": 46,
   "metadata": {},
   "outputs": [
    {
     "data": {
      "text/plain": [
       "array([1921.5])"
      ]
     },
     "execution_count": 46,
     "metadata": {},
     "output_type": "execute_result"
    }
   ],
   "source": [
    "obs"
   ]
  },
  {
   "cell_type": "code",
   "execution_count": 47,
   "metadata": {
    "scrolled": true
   },
   "outputs": [
    {
     "name": "stderr",
     "output_type": "stream",
     "text": [
      "<ipython-input-47-538927a8974b>:2: FutureWarning: The pandas.datetime class is deprecated and will be removed from pandas in a future version. Import from datetime module instead.\n",
      "  from pandas import datetime\n"
     ]
    },
    {
     "name": "stdout",
     "output_type": "stream",
     "text": [
      "predicted=43.215200, expected=43.218052\n",
      "predicted=43.225368, expected=43.373956\n",
      "predicted=43.360184, expected=43.379719\n",
      "predicted=43.385679, expected=43.320895\n",
      "predicted=43.316773, expected=43.411980\n",
      "predicted=43.408111, expected=43.567189\n",
      "predicted=43.570413, expected=43.603899\n",
      "predicted=43.606416, expected=43.539637\n",
      "predicted=43.536826, expected=43.617657\n",
      "predicted=43.612809, expected=43.622242\n",
      "predicted=43.627316, expected=43.674936\n",
      "predicted=43.671769, expected=43.257369\n",
      "predicted=43.265640, expected=43.471831\n",
      "predicted=43.449879, expected=43.552268\n",
      "predicted=43.573059, expected=43.499425\n",
      "predicted=43.496331, expected=43.510918\n",
      "predicted=43.506113, expected=43.522407\n",
      "predicted=43.524360, expected=43.328974\n",
      "predicted=43.332433, expected=43.174066\n",
      "predicted=43.169061, expected=43.063906\n",
      "predicted=43.066087, expected=43.121920\n",
      "predicted=43.121901, expected=42.116506\n",
      "predicted=42.140272, expected=42.046403\n",
      "predicted=42.004731, expected=42.211373\n",
      "predicted=42.233917, expected=42.146175\n",
      "predicted=42.154779, expected=42.217296\n",
      "predicted=42.209685, expected=42.137869\n",
      "predicted=42.143375, expected=42.149733\n",
      "predicted=42.144912, expected=42.185305\n",
      "predicted=42.187136, expected=41.985712\n",
      "predicted=41.990066, expected=42.080875\n",
      "predicted=42.071257, expected=42.141429\n",
      "predicted=42.148638, expected=42.220848\n",
      "predicted=42.219227, expected=42.349734\n",
      "predicted=42.348875, expected=42.444081\n",
      "predicted=42.445169, expected=42.421692\n",
      "predicted=42.422247, expected=42.544095\n",
      "predicted=42.538967, expected=42.491176\n",
      "predicted=42.497014, expected=42.537043\n",
      "predicted=42.531380, expected=42.711826\n",
      "predicted=42.711804, expected=42.759794\n",
      "predicted=42.764192, expected=42.596948\n",
      "predicted=42.597154, expected=42.528813\n",
      "predicted=42.523066, expected=42.554671\n",
      "predicted=42.555834, expected=42.460570\n",
      "predicted=42.464655, expected=42.485292\n",
      "predicted=42.480969, expected=42.442903\n",
      "predicted=42.446726, expected=42.411083\n",
      "predicted=42.409533, expected=42.420514\n",
      "predicted=42.420251, expected=42.420514\n",
      "predicted=42.421603, expected=42.792522\n",
      "predicted=42.786139, expected=42.574640\n",
      "predicted=42.591814, expected=42.639184\n",
      "predicted=42.621211, expected=42.545270\n",
      "predicted=42.554835, expected=42.549971\n",
      "predicted=42.544884, expected=42.486468\n",
      "predicted=42.490206, expected=41.952354\n",
      "predicted=41.959701, expected=41.513853\n",
      "predicted=41.500521, expected=41.578841\n",
      "predicted=41.575084, expected=41.837782\n",
      "predicted=41.849157, expected=41.821047\n",
      "predicted=41.827885, expected=42.133122\n",
      "predicted=42.121715, expected=42.271740\n",
      "predicted=42.281528, expected=42.249260\n",
      "predicted=42.246162, expected=42.209003\n",
      "predicted=42.205016, expected=42.192416\n",
      "predicted=42.191808, expected=42.201896\n",
      "predicted=42.202286, expected=42.464102\n",
      "predicted=42.462014, expected=42.492352\n",
      "predicted=42.500776, expected=42.287113\n",
      "predicted=42.283227, expected=42.334383\n",
      "predicted=42.326397, expected=42.621590\n",
      "predicted=42.625341, expected=42.532341\n",
      "predicted=42.541025, expected=42.602817\n",
      "predicted=42.591842, expected=42.580512\n",
      "predicted=42.585278, expected=42.528813\n",
      "predicted=42.526921, expected=42.789018\n",
      "predicted=42.784815, expected=42.378061\n",
      "predicted=42.393779, expected=42.316663\n",
      "predicted=42.298347, expected=42.395755\n",
      "predicted=42.402582, expected=42.303664\n",
      "predicted=42.308799, expected=42.332021\n",
      "predicted=42.327017, expected=42.481760\n",
      "predicted=42.482483, expected=42.336746\n",
      "predicted=42.342785, expected=41.887945\n",
      "predicted=41.886562, expected=41.825830\n",
      "predicted=41.817297, expected=41.973802\n",
      "predicted=41.980770, expected=42.142615\n",
      "predicted=42.145959, expected=42.150919\n",
      "predicted=42.151418, expected=41.805501\n",
      "predicted=41.805396, expected=41.829415\n",
      "predicted=41.820521, expected=41.833001\n",
      "predicted=41.842783, expected=41.662934\n",
      "predicted=41.664554, expected=41.490963\n",
      "predicted=41.488804, expected=41.896301\n",
      "predicted=41.891232, expected=41.916584\n",
      "predicted=41.929558, expected=42.026182\n",
      "predicted=42.014769, expected=41.947586\n",
      "predicted=41.950630, expected=41.958313\n",
      "predicted=41.953461, expected=41.927318\n",
      "predicted=41.930070, expected=41.908234\n",
      "predicted=41.907493, expected=41.887945\n",
      "predicted=41.888600, expected=41.932089\n",
      "predicted=41.931530, expected=42.352095\n",
      "predicted=42.348179, expected=42.387498\n",
      "predicted=42.395476, expected=42.038077\n",
      "predicted=42.031814, expected=42.009523\n",
      "predicted=42.002365, expected=42.067802\n",
      "predicted=42.076138, expected=42.238608\n",
      "predicted=42.238347, expected=42.204265\n",
      "predicted=42.206070, expected=42.373341\n",
      "predicted=42.365626, expected=42.497059\n",
      "predicted=42.499654, expected=42.340288\n",
      "predicted=42.339770, expected=42.401651\n",
      "predicted=42.394596, expected=42.445259\n",
      "predicted=42.450102, expected=42.225585\n",
      "predicted=42.227629, expected=42.368620\n",
      "predicted=42.361582, expected=42.293025\n",
      "predicted=42.302485, expected=41.995238\n",
      "predicted=41.994548, expected=42.343831\n",
      "predicted=42.334979, expected=42.619245\n",
      "predicted=42.627340, expected=42.748100\n",
      "predicted=42.741910, expected=42.780836\n",
      "predicted=42.775657, expected=42.983718\n",
      "predicted=42.978707, expected=43.164800\n",
      "predicted=43.165242, expected=43.219209\n",
      "predicted=43.217075, expected=43.198379\n",
      "predicted=43.195474, expected=43.053455\n",
      "predicted=43.053520, expected=43.240027\n",
      "predicted=43.235895, expected=43.139309\n",
      "predicted=43.146945, expected=43.025573\n",
      "predicted=43.021229, expected=42.497059\n",
      "predicted=42.503226, expected=42.231505\n",
      "predicted=42.226458, expected=42.238608\n",
      "predicted=42.246559, expected=42.324934\n",
      "predicted=42.331179, expected=42.252811\n",
      "predicted=42.254653, expected=42.217296\n",
      "predicted=42.214156, expected=42.114130\n",
      "predicted=42.116023, expected=42.209003\n",
      "predicted=42.207415, expected=41.960695\n",
      "predicted=41.966921, expected=42.213742\n",
      "predicted=42.204288, expected=42.160408\n",
      "predicted=42.172105, expected=42.220848\n",
      "predicted=42.212657, expected=42.230321\n",
      "predicted=42.232775, expected=42.126001\n",
      "predicted=42.125647, expected=42.224401\n",
      "predicted=42.221172, expected=42.264643\n",
      "predicted=42.268782, expected=42.076122\n",
      "predicted=42.076320, expected=41.983330\n",
      "predicted=41.979731, expected=42.386318\n",
      "predicted=42.385163, expected=42.471167\n",
      "predicted=42.479222, expected=42.352095\n",
      "predicted=42.344499, expected=42.283567\n",
      "predicted=42.280315, expected=42.445259\n",
      "predicted=42.445642, expected=42.558195\n",
      "predicted=42.561122, expected=42.521759\n",
      "predicted=42.519554, expected=42.546445\n",
      "predicted=42.542822, expected=42.486468\n",
      "predicted=42.488339, expected=42.575814\n",
      "predicted=42.573442, expected=42.749269\n",
      "predicted=42.750365, expected=42.419336\n",
      "predicted=42.423027, expected=42.591079\n",
      "predicted=42.580115, expected=42.715337\n",
      "predicted=42.723933, expected=42.293025\n",
      "predicted=42.296551, expected=42.391037\n",
      "predicted=42.382503, expected=42.407547\n",
      "predicted=42.416721, expected=42.645046\n",
      "predicted=42.639650, expected=42.745759\n",
      "predicted=42.746710, expected=42.675519\n",
      "predicted=42.672348, expected=42.620418\n",
      "predicted=42.618166, expected=42.571118\n",
      "predicted=42.572776, expected=42.931340\n",
      "predicted=42.927015, expected=42.924352\n",
      "predicted=42.929305, expected=42.799533\n",
      "predicted=42.792948, expected=42.915032\n",
      "predicted=42.912368, expected=43.043001\n",
      "predicted=43.044923, expected=42.777331\n",
      "predicted=42.779915, expected=42.347374\n",
      "predicted=42.348006, expected=42.248077\n",
      "predicted=42.252122, expected=42.367440\n",
      "predicted=42.375611, expected=42.429943\n",
      "predicted=42.432325, expected=42.534691\n",
      "predicted=42.531010, expected=42.461747\n",
      "predicted=42.461649, expected=42.504117\n",
      "predicted=42.500631, expected=42.668489\n",
      "predicted=42.668667, expected=42.738741\n",
      "predicted=42.737916, expected=42.839234\n",
      "predicted=42.834650, expected=42.850904\n",
      "predicted=42.849725, expected=42.904546\n",
      "predicted=42.901652, expected=43.220366\n",
      "predicted=43.217254, expected=43.067390\n",
      "predicted=43.069875, expected=43.245808\n",
      "predicted=43.235262, expected=43.597018\n",
      "predicted=43.597567, expected=43.572927\n",
      "predicted=43.571831, expected=43.658905\n",
      "predicted=43.650972, expected=43.694393\n",
      "predicted=43.695082, expected=43.875961\n",
      "predicted=43.872685, expected=43.433858\n",
      "predicted=43.439897, expected=43.582107\n",
      "predicted=43.573029, expected=44.072668\n",
      "predicted=44.074859, expected=43.828073\n",
      "predicted=43.830158, expected=43.981815\n",
      "predicted=43.971486, expected=44.329448\n",
      "predicted=44.326908, expected=44.653108\n",
      "predicted=44.648135, expected=45.167466\n"
     ]
    },
    {
     "name": "stdout",
     "output_type": "stream",
     "text": [
      "predicted=45.162177, expected=44.563438\n",
      "predicted=44.568746, expected=44.700112\n",
      "predicted=44.688357, expected=44.527519\n",
      "predicted=44.541144, expected=44.267369\n",
      "predicted=44.269182, expected=43.914690\n",
      "predicted=43.920363, expected=43.680659\n",
      "predicted=43.683884, expected=44.069263\n",
      "predicted=44.067720, expected=43.834918\n",
      "Test RMSE: 0.202\n"
     ]
    },
    {
     "data": {
      "image/png": "[encoded data removed]",
      "text/plain": [
       "<Figure size 432x288 with 1 Axes>"
      ]
     },
     "metadata": {
      "needs_background": "light"
     },
     "output_type": "display_data"
    }
   ],
   "source": [
    "from pandas import read_csv\n",
    "from pandas import datetime\n",
    "from matplotlib import pyplot\n",
    "from statsmodels.tsa.arima.model import ARIMA\n",
    "from sklearn.metrics import mean_squared_error\n",
    "from math import sqrt\n",
    "# split into train and test sets\n",
    "X = df.values\n",
    "size = int(len(X) * 0.80)\n",
    "train, test = X[0:size], X[size:len(X)]\n",
    "history = [x for x in train]\n",
    "predictions = list()\n",
    "# walk-forward validation\n",
    "for t in range(len(test)):\n",
    "    model = ARIMA(history, order=(3,1,0))\n",
    "    model_fit = model.fit()\n",
    "    output = model_fit.forecast()\n",
    "    yhat = output[0]\n",
    "    predictions.append(yhat)\n",
    "    obs = test[t]\n",
    "    history.append(obs)\n",
    "    print('predicted=%f, expected=%f' % (yhat, obs))\n",
    "# evaluate forecasts\n",
    "rmse = sqrt(mean_squared_error(test, predictions))\n",
    "print('Test RMSE: %.3f' % rmse)\n",
    "# plot forecasts against actual outcomes\n",
    "pyplot.plot(test)\n",
    "pyplot.plot(predictions, color='red')\n",
    "pyplot.show()\n",
    " \n",
    "    \n",
    "\n",
    "            "
   ]
  },
  {
   "cell_type": "code",
   "execution_count": null,
   "metadata": {},
   "outputs": [],
   "source": []
  },
  {
   "cell_type": "code",
   "execution_count": 48,
   "metadata": {},
   "outputs": [
    {
     "data": {
      "text/plain": [
       "[<matplotlib.lines.Line2D at 0x202082a5910>]"
      ]
     },
     "execution_count": 48,
     "metadata": {},
     "output_type": "execute_result"
    },
    {
     "data": {
      "image/png": "[encoded data removed]",
      "text/plain": [
       "<Figure size 432x288 with 1 Axes>"
      ]
     },
     "metadata": {
      "needs_background": "light"
     },
     "output_type": "display_data"
    }
   ],
   "source": [
    "pyplot.plot(test)"
   ]
  },
  {
   "cell_type": "code",
   "execution_count": 49,
   "metadata": {},
   "outputs": [
    {
     "data": {
      "image/png": "[encoded data removed]",
      "text/plain": [
       "<Figure size 432x288 with 1 Axes>"
      ]
     },
     "metadata": {
      "needs_background": "light"
     },
     "output_type": "display_data"
    }
   ],
   "source": [
    "pyplot.plot(predictions, color='red')\n",
    "pyplot.show()"
   ]
  },
  {
   "cell_type": "code",
   "execution_count": 50,
   "metadata": {},
   "outputs": [],
   "source": [
    "predict = np.square(output)"
   ]
  },
  {
   "cell_type": "code",
   "execution_count": 51,
   "metadata": {},
   "outputs": [],
   "source": [
    "model = ARIMA(X, order=(3,1,0))\n",
    "model_fit = model.fit()\n",
    "output = model_fit.forecast(30)"
   ]
  },
  {
   "cell_type": "code",
   "execution_count": 52,
   "metadata": {},
   "outputs": [
    {
     "data": {
      "text/plain": [
       "array([1941.96390823])"
      ]
     },
     "execution_count": 52,
     "metadata": {},
     "output_type": "execute_result"
    }
   ],
   "source": [
    "predict"
   ]
  },
  {
   "cell_type": "code",
   "execution_count": 53,
   "metadata": {},
   "outputs": [],
   "source": [
    "import pandas as pd"
   ]
  },
  {
   "cell_type": "code",
   "execution_count": 54,
   "metadata": {},
   "outputs": [],
   "source": [
    "result = pd.DataFrame(data=predict,columns=['30_Day_predictons'])"
   ]
  },
  {
   "cell_type": "code",
   "execution_count": 55,
   "metadata": {},
   "outputs": [
    {
     "data": {
      "text/html": [
       "<div>\n",
       "<style scoped>\n",
       "    .dataframe tbody tr th:only-of-type {\n",
       "        vertical-align: middle;\n",
       "    }\n",
       "\n",
       "    .dataframe tbody tr th {\n",
       "        vertical-align: top;\n",
       "    }\n",
       "\n",
       "    .dataframe thead th {\n",
       "        text-align: right;\n",
       "    }\n",
       "</style>\n",
       "<table border=\"1\" class=\"dataframe\">\n",
       "  <thead>\n",
       "    <tr style=\"text-align: right;\">\n",
       "      <th></th>\n",
       "      <th>30_Day_predictons</th>\n",
       "    </tr>\n",
       "  </thead>\n",
       "  <tbody>\n",
       "    <tr>\n",
       "      <th>0</th>\n",
       "      <td>1941.963908</td>\n",
       "    </tr>\n",
       "  </tbody>\n",
       "</table>\n",
       "</div>"
      ],
      "text/plain": [
       "   30_Day_predictons\n",
       "0        1941.963908"
      ]
     },
     "execution_count": 55,
     "metadata": {},
     "output_type": "execute_result"
    }
   ],
   "source": [
    "result"
   ]
  },
  {
   "cell_type": "code",
   "execution_count": null,
   "metadata": {},
   "outputs": [],
   "source": []
  }
 ],
 "metadata": {
  "kernelspec": {
   "display_name": "Python 3",
   "language": "python",
   "name": "python3"
  },
  "language_info": {
   "codemirror_mode": {
    "name": "ipython",
    "version": 3
   },
   "file_extension": ".py",
   "mimetype": "text/x-python",
   "name": "python",
   "nbconvert_exporter": "python",
   "pygments_lexer": "ipython3",
   "version": "3.8.5"
  }
 },
 "nbformat": 4,
 "nbformat_minor": 5
}
